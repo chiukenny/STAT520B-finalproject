{
 "cells": [
  {
   "cell_type": "markdown",
   "id": "nervous-biotechnology",
   "metadata": {},
   "source": [
    "Code based on https://github.com/blei-lab/variational-smc."
   ]
  },
  {
   "cell_type": "code",
   "execution_count": 4,
   "id": "median-extent",
   "metadata": {},
   "outputs": [],
   "source": [
    "using Random, LinearAlgebra, Distributions"
   ]
  },
  {
   "cell_type": "code",
   "execution_count": 1,
   "id": "rubber-carroll",
   "metadata": {},
   "outputs": [],
   "source": [
    "mutable struct LGSS_SMC\n",
    "    T::Integer     # Length of sequence\n",
    "    dimX::Integer # Dimension of latent variables\n",
    "    dimY::Integer # Dimension of observations\n",
    "    N::Integer     # Number of particles\n",
    "    \n",
    "    sim_prop # Function for sampling from proposal\n",
    "end"
   ]
  },
  {
   "cell_type": "code",
   "execution_count": 22,
   "id": "crude-lightning",
   "metadata": {},
   "outputs": [
    {
     "data": {
      "text/plain": [
       "vsmc_lower_bound (generic function with 1 method)"
      ]
     },
     "execution_count": 22,
     "metadata": {},
     "output_type": "execute_result"
    }
   ],
   "source": [
    "# TODO: fix seed\n",
    "\n",
    "function resampling(W; seed=Random.seed!(0))\n",
    "    # TODO: this isn't the resampling algorithm described in the paper?\n",
    "    # Taking indices, adding uniform noise, then dividing by N, and re-fitting them into bins\n",
    "    N = size(W)[1]\n",
    "    bins = cumsum(W)\n",
    "    ind = 0:N-1\n",
    "    u = (ind + rand(N)) / N\n",
    "    digitize = i -> searchsortedfirst(bins,i)\n",
    "    return digitize.(u)\n",
    "end\n",
    "\n",
    "function vsmc_lower_bound(prop_params, model_params, y, smc_params; seed=Random.seed(0), verbose=false, adapt_resamp=false)\n",
    "    # Extract constants\n",
    "    T = size(y)[1]\n",
    "    dimX = smc_params.dimX\n",
    "    N = smc_params.N\n",
    "    \n",
    "    # Initialize SMC\n",
    "    X = zeros(N,dimX)\n",
    "    Xp = zeros(N,dimX)\n",
    "    logW = zeros(N)\n",
    "    W = exp.(logW) ./ N\n",
    "    logZ = 0\n",
    "    ESS = (1/sum(W.^2)) / N # Effective sample size\n",
    "    \n",
    "    for t in 1:T\n",
    "        # Resampling\n",
    "        if adapt_resamp\n",
    "            # TODO\n",
    "        else\n",
    "            if t > 0\n",
    "                ancestors = resampling(W,seed=seed)\n",
    "                Xp = getindex(X,ancestors)\n",
    "            else\n",
    "                Xp = X\n",
    "            end\n",
    "        end\n",
    "        \n",
    "        # Propagation\n",
    "        X = smc_params.sim_prop(t, Xp, y, prop_params, model_params, seed=seed)\n",
    "    end\n",
    "    return X\n",
    "end"
   ]
  },
  {
   "cell_type": "code",
   "execution_count": 93,
   "id": "exterior-pantyhose",
   "metadata": {},
   "outputs": [
    {
     "data": {
      "text/plain": [
       "3-element Array{Int64,1}:\n",
       " 1\n",
       " 1\n",
       " 3"
      ]
     },
     "execution_count": 93,
     "metadata": {},
     "output_type": "execute_result"
    }
   ],
   "source": [
    "K = [1,3,2,4]\n",
    "getindex(K,[1,1,2])"
   ]
  },
  {
   "cell_type": "code",
   "execution_count": 23,
   "id": "major-speaking",
   "metadata": {},
   "outputs": [
    {
     "data": {
      "text/plain": [
       "sim_prop (generic function with 1 method)"
      ]
     },
     "execution_count": 23,
     "metadata": {},
     "output_type": "execute_result"
    }
   ],
   "source": [
    "function init_model_params(dimX, dimY, α, r, obs; seed=Random.seed(0))\n",
    "    μ0 = zeros(dimX)\n",
    "    Σ0 = Matrix{Float64}(I,dimX,dimX)\n",
    "    \n",
    "    A = zeros(dimX,dimY)\n",
    "    for i in 1:dimX\n",
    "        for j in 1:dimX\n",
    "            A[i,j] = α^(abs(i-j)+1)\n",
    "        end\n",
    "    end\n",
    "    \n",
    "    Q = Matrix{Float64}(I,dimX,dimX)\n",
    "    \n",
    "    # TODO: obs\n",
    "    # C = zeros(dimY,dimX)\n",
    "    C = randn(dimY,dimY)\n",
    "    \n",
    "    R = r*Matrix{Float64}(I,dimY,dimY)\n",
    "    \n",
    "    return μ0, Σ0, A, Q, C, R\n",
    "end\n",
    "\n",
    "function init_prop_params(T, dimX, scale; seed=Random.seed(0))\n",
    "    return [(scale*randn(dimX), # Bias\n",
    "            1 .+ scale*randn(dimX), # Linear times A/μ0\n",
    "            scale*randn(dimX)) # Log-var\n",
    "            for t in 1:T]\n",
    "end\n",
    "\n",
    "function generate_data(model_params, T; seed=Random.seed(0))\n",
    "    μ0, Σ0, A, Q, C, R = model_params\n",
    "    dimX = size(μ0)[1]\n",
    "    dimY = size(R)[1]\n",
    "    \n",
    "    x_true = zeros(T,dimX)\n",
    "    y_true = zeros(T,dimY)\n",
    "    \n",
    "    for t in 1:T\n",
    "        if t > 1\n",
    "            x_dist = MvNormal(A*x_true[t-1,:],Q)\n",
    "        else\n",
    "            x_dist = MvNormal(μ0,Σ0)\n",
    "        end\n",
    "        x_true[t,:] = rand(x_dist,1)\n",
    "        \n",
    "        y_dist = MvNormal(C*x_true[t,:],R)\n",
    "        y_true[t,:] = rand(y_dist,1)\n",
    "    end\n",
    "    \n",
    "    return x_true, y_true\n",
    "end\n",
    "\n",
    "function log_marginal_likelihood(model_params, T, y_true)\n",
    "    μ0, Σ0, A, Q, C, R = model_params\n",
    "    dimX = size(μ0)[1]\n",
    "    dimY = size(R)[1]\n",
    "    \n",
    "    # Compute via Kalman filter\n",
    "    log_likelihood = 0\n",
    "    \n",
    "    x_filt = zeros(dimX)\n",
    "    P_filt = zeros(dimX,dimX)\n",
    "    x_pred = μ0\n",
    "    P_pred = Σ0\n",
    "    \n",
    "    for t in 1:T\n",
    "        if t > 0\n",
    "            # Predict\n",
    "            x_pred = A * x_filt\n",
    "            P_pred = A*P_filt*A' + Q\n",
    "        end\n",
    "        \n",
    "        # Update\n",
    "        yt = y_true[t,:] - C*x_pred\n",
    "        S = C*P_pred*C' + R\n",
    "        K = (S \\ (C*P_pred))'\n",
    "        x_filt = x_pred + K*yt\n",
    "        P_filt = P_pred - K*C*P_pred\n",
    "        \n",
    "        # TODO: double check this correct\n",
    "        log_likelihood += -0.5*(dot(yt,S\\yt) + logdet(S) + dimY*log(2*π))\n",
    "    end\n",
    "    return log_likelihood\n",
    "end\n",
    "\n",
    "function sim_prop(t, Xp, y, prop_params, model_params; seed=Random.seed!(0))\n",
    "    μ0, Σ0, A, Q, C, R = model_params\n",
    "    μt, lint, log_σ2t = prop_params[t]\n",
    "    σt = sqrt.(exp.(log_σ2t))\n",
    "    \n",
    "    if t > 0\n",
    "        println(size(A))\n",
    "        println(size(Xp))\n",
    "        println(size(lint))\n",
    "        μ = μt + (A*Xp')'*lint\n",
    "        println(\"here2\")\n",
    "    else\n",
    "        μ = μt + lint*μ0\n",
    "    end\n",
    "    return μ + randn(size(Xp))*σt\n",
    "end"
   ]
  },
  {
   "cell_type": "code",
   "execution_count": 5,
   "id": "honest-proof",
   "metadata": {},
   "outputs": [
    {
     "data": {
      "text/plain": [
       "5×5 Array{Float64,2}:\n",
       "  0.479685  -0.247706   1.41547    0.304127  -2.09069\n",
       "  0.297071  -0.822784   1.2586     1.85592    1.0211\n",
       "  0.235948   1.78808    0.696116  -1.47113   -0.718043\n",
       "  0.629158   0.869882  -0.593085  -0.983135   1.04007\n",
       " -1.25279   -0.146835  -1.87564    1.63912   -0.389665"
      ]
     },
     "execution_count": 5,
     "metadata": {},
     "output_type": "execute_result"
    }
   ],
   "source": [
    "randn(size(Matrix(I,5,5)))"
   ]
  },
  {
   "cell_type": "code",
   "execution_count": 24,
   "id": "suffering-understanding",
   "metadata": {},
   "outputs": [
    {
     "name": "stdout",
     "output_type": "stream",
     "text": [
      "True log-marginal likelihood: -5.524367060004888\n",
      "(2, 2)\n",
      "(4,)\n",
      "(2,)\n"
     ]
    },
    {
     "ename": "LoadError",
     "evalue": "\u001b[91mDimensionMismatch(\"A has dimensions (2,2) but B has dimensions (1,4)\")\u001b[39m",
     "output_type": "error",
     "traceback": [
      "\u001b[91mDimensionMismatch(\"A has dimensions (2,2) but B has dimensions (1,4)\")\u001b[39m",
      "",
      "Stacktrace:",
      " [1] gemm_wrapper!(::Array{Float64,2}, ::Char, ::Char, ::Array{Float64,2}, ::Array{Float64,1}, ::LinearAlgebra.MulAddMul{true,true,Bool,Bool}) at C:\\buildbot\\worker\\package_win64\\build\\usr\\share\\julia\\stdlib\\v1.5\\LinearAlgebra\\src\\matmul.jl:569",
      " [2] mul! at C:\\buildbot\\worker\\package_win64\\build\\usr\\share\\julia\\stdlib\\v1.5\\LinearAlgebra\\src\\matmul.jl:325 [inlined]",
      " [3] mul! at C:\\buildbot\\worker\\package_win64\\build\\usr\\share\\julia\\stdlib\\v1.5\\LinearAlgebra\\src\\matmul.jl:397 [inlined]",
      " [4] mul! at C:\\buildbot\\worker\\package_win64\\build\\usr\\share\\julia\\stdlib\\v1.5\\LinearAlgebra\\src\\matmul.jl:208 [inlined]",
      " [5] * at C:\\buildbot\\worker\\package_win64\\build\\usr\\share\\julia\\stdlib\\v1.5\\LinearAlgebra\\src\\matmul.jl:153 [inlined]",
      " [6] sim_prop(::Int64, ::Array{Float64,1}, ::Array{Float64,2}, ::Array{Tuple{Array{Float64,1},Array{Float64,1},Array{Float64,1}},1}, ::Tuple{Array{Float64,1},Array{Float64,2},Array{Float64,2},Array{Float64,2},Array{Float64,2},Array{Float64,2}}; seed::MersenneTwister) at .\\In[23]:95",
      " [7] vsmc_lower_bound(::Array{Tuple{Array{Float64,1},Array{Float64,1},Array{Float64,1}},1}, ::Tuple{Array{Float64,1},Array{Float64,2},Array{Float64,2},Array{Float64,2},Array{Float64,2},Array{Float64,2}}, ::Array{Float64,2}, ::LGSS_SMC; seed::MersenneTwister, verbose::Bool, adapt_resamp::Bool) at .\\In[22]:42",
      " [8] top-level scope at In[24]:31",
      " [9] include_string(::Function, ::Module, ::String, ::String) at .\\loading.jl:1091"
     ]
    }
   ],
   "source": [
    "# Model hyperparameters\n",
    "T = 2\n",
    "dimX = 2\n",
    "dimY = 2\n",
    "α = 0.42\n",
    "r = 0.1\n",
    "obs = \"sparse\"\n",
    "\n",
    "# Training parameters\n",
    "param_scale = 0.5\n",
    "num_epochs = 1000\n",
    "step_size = 0.001\n",
    "\n",
    "N = 4\n",
    "\n",
    "data_seed = Random.seed!(1)\n",
    "model_params = init_model_params(dimX, dimY, α, r, obs, seed=data_seed)\n",
    "\n",
    "x_true, y_true = generate_data(model_params, T, seed=data_seed)\n",
    "\n",
    "log_marginal = log_marginal_likelihood(model_params, T, y_true)\n",
    "println(\"True log-marginal likelihood: \", log_marginal)\n",
    "\n",
    "seed = Random.seed!(1)\n",
    "\n",
    "prop_params = init_prop_params(T, dimX, param_scale, seed=seed)\n",
    "combined_init_params = (model_params, prop_params)\n",
    "\n",
    "lgss_smc_obj = LGSS_SMC(T,dimX,dimY,N,sim_prop)\n",
    "\n",
    "vsmc_lower_bound(prop_params, model_params, y_true, lgss_smc_obj, seed=seed)"
   ]
  }
 ],
 "metadata": {
  "kernelspec": {
   "display_name": "Julia 1.5.3",
   "language": "julia",
   "name": "julia-1.5"
  },
  "language_info": {
   "file_extension": ".jl",
   "mimetype": "application/julia",
   "name": "julia",
   "version": "1.5.3"
  }
 },
 "nbformat": 4,
 "nbformat_minor": 5
}
